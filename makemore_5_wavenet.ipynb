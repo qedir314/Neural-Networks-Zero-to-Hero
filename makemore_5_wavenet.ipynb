{
  "nbformat": 4,
  "nbformat_minor": 0,
  "metadata": {
    "colab": {
      "provenance": [],
      "authorship_tag": "ABX9TyPzIn/fpG6vFKLWjjdzkXX8",
      "include_colab_link": true
    },
    "kernelspec": {
      "name": "python3",
      "display_name": "Python 3"
    },
    "language_info": {
      "name": "python"
    }
  },
  "cells": [
    {
      "cell_type": "markdown",
      "metadata": {
        "id": "view-in-github",
        "colab_type": "text"
      },
      "source": [
        "<a href=\"https://colab.research.google.com/github/qedir314/Neural-Networks-Zero-to-Hero/blob/main/makemore_5_wavenet.ipynb\" target=\"_parent\"><img src=\"https://colab.research.google.com/assets/colab-badge.svg\" alt=\"Open In Colab\"/></a>"
      ]
    },
    {
      "cell_type": "code",
      "execution_count": 1,
      "metadata": {
        "id": "7X_gz8Qdsvim"
      },
      "outputs": [],
      "source": [
        "import torch\n",
        "import torch.nn.functional as F\n",
        "import matplotlib.pyplot as plt\n",
        "%matplotlib inline"
      ]
    },
    {
      "cell_type": "code",
      "source": [
        "# download the names.txt file from github\n",
        "!wget https://raw.githubusercontent.com/karpathy/makemore/master/names.txt"
      ],
      "metadata": {
        "colab": {
          "base_uri": "https://localhost:8080/"
        },
        "id": "2EUFPoy71B39",
        "outputId": "a50822d5-bbc5-441b-cacc-49148ed75d34"
      },
      "execution_count": 2,
      "outputs": [
        {
          "output_type": "stream",
          "name": "stdout",
          "text": [
            "--2024-11-17 20:33:56--  https://raw.githubusercontent.com/karpathy/makemore/master/names.txt\n",
            "Resolving raw.githubusercontent.com (raw.githubusercontent.com)... 185.199.108.133, 185.199.109.133, 185.199.110.133, ...\n",
            "Connecting to raw.githubusercontent.com (raw.githubusercontent.com)|185.199.108.133|:443... connected.\n",
            "HTTP request sent, awaiting response... 200 OK\n",
            "Length: 228145 (223K) [text/plain]\n",
            "Saving to: ‘names.txt’\n",
            "\n",
            "names.txt           100%[===================>] 222.80K  --.-KB/s    in 0.08s   \n",
            "\n",
            "2024-11-17 20:33:56 (2.87 MB/s) - ‘names.txt’ saved [228145/228145]\n",
            "\n"
          ]
        }
      ]
    },
    {
      "cell_type": "code",
      "source": [
        "# reading words\n",
        "words = open('names.txt', 'r').read().splitlines()\n",
        "print(len(words))\n",
        "print(max(len(w) for w in words))\n",
        "print(words[:5])"
      ],
      "metadata": {
        "colab": {
          "base_uri": "https://localhost:8080/"
        },
        "id": "1gal6U1l1QD-",
        "outputId": "d07fc871-dd93-4bc6-a8cb-685c953b58f1"
      },
      "execution_count": 5,
      "outputs": [
        {
          "output_type": "stream",
          "name": "stdout",
          "text": [
            "32033\n",
            "15\n",
            "['emma', 'olivia', 'ava', 'isabella', 'sophia']\n"
          ]
        }
      ]
    },
    {
      "cell_type": "code",
      "source": [
        "chars = sorted(list(set(''.join(words))))\n",
        "stoi = {s: i+1 for i, s in enumerate(chars)}\n",
        "stoi['.'] = 0\n",
        "itos = {i: s for s, i in stoi.items()}\n",
        "vocab_size = len(itos)\n",
        "print(itos)\n",
        "print(vocab_size)"
      ],
      "metadata": {
        "colab": {
          "base_uri": "https://localhost:8080/"
        },
        "id": "IpPsFm-h2B8w",
        "outputId": "71c4af8d-0386-4689-db2b-41384920664d"
      },
      "execution_count": 6,
      "outputs": [
        {
          "output_type": "stream",
          "name": "stdout",
          "text": [
            "{1: 'a', 2: 'b', 3: 'c', 4: 'd', 5: 'e', 6: 'f', 7: 'g', 8: 'h', 9: 'i', 10: 'j', 11: 'k', 12: 'l', 13: 'm', 14: 'n', 15: 'o', 16: 'p', 17: 'q', 18: 'r', 19: 's', 20: 't', 21: 'u', 22: 'v', 23: 'w', 24: 'x', 25: 'y', 26: 'z', 0: '.'}\n",
            "27\n"
          ]
        }
      ]
    },
    {
      "cell_type": "code",
      "source": [
        "import random\n",
        "random.seed(42)\n",
        "random.shuffle(words)"
      ],
      "metadata": {
        "id": "silL-Tij3mxd"
      },
      "execution_count": 13,
      "outputs": []
    },
    {
      "cell_type": "code",
      "source": [
        "# build the dataset\n",
        "block_size = 8\n",
        "\n",
        "def build_dataset(words):\n",
        "  X, Y = [], []\n",
        "\n",
        "  for word in words:\n",
        "    context = [0] * block_size\n",
        "    for ch in word + '.':\n",
        "      ix = stoi[ch]\n",
        "      X.append(context)\n",
        "      Y.append(ix)\n",
        "      context = context[1:] + [ix]\n",
        "\n",
        "  X = torch.tensor(X)\n",
        "  Y = torch.tensor(Y)\n",
        "  print(X.shape, Y.shape)\n",
        "  return X, Y\n",
        "\n",
        "n1 = int(0.8*len(words))\n",
        "n2 = int(0.9*len(words))\n",
        "\n",
        "Xtr, Ytr = build_dataset(words[:n1])\n",
        "Xval, Yval = build_dataset(words[n1:n2])\n",
        "Xtest, Ytest = build_dataset(words[n2:])"
      ],
      "metadata": {
        "colab": {
          "base_uri": "https://localhost:8080/"
        },
        "id": "qH7u-Okz3ICv",
        "outputId": "54905791-6332-4f85-f788-a05ea3e33737"
      },
      "execution_count": 60,
      "outputs": [
        {
          "output_type": "stream",
          "name": "stdout",
          "text": [
            "torch.Size([182580, 8]) torch.Size([182580])\n",
            "torch.Size([22767, 8]) torch.Size([22767])\n",
            "torch.Size([22799, 8]) torch.Size([22799])\n"
          ]
        }
      ]
    },
    {
      "cell_type": "code",
      "source": [
        "for x, y in zip(Xtr[:20], Ytr[:20]):\n",
        "  print(''.join(itos[ix.item()] for ix in x), '-->', itos[y.item()])"
      ],
      "metadata": {
        "colab": {
          "base_uri": "https://localhost:8080/"
        },
        "id": "EZ_Wiqdk35u_",
        "outputId": "6bc2e541-3a23-4e1f-b8d9-baf2491869e2"
      },
      "execution_count": 61,
      "outputs": [
        {
          "output_type": "stream",
          "name": "stdout",
          "text": [
            "........ --> e\n",
            ".......e --> b\n",
            "......eb --> r\n",
            ".....ebr --> i\n",
            "....ebri --> m\n",
            "...ebrim --> a\n",
            "..ebrima --> .\n",
            "........ --> h\n",
            ".......h --> i\n",
            "......hi --> l\n",
            ".....hil --> t\n",
            "....hilt --> o\n",
            "...hilto --> n\n",
            "..hilton --> .\n",
            "........ --> j\n",
            ".......j --> h\n",
            "......jh --> e\n",
            ".....jhe --> n\n",
            "....jhen --> e\n",
            "...jhene --> .\n"
          ]
        }
      ]
    },
    {
      "cell_type": "code",
      "source": [
        "class Linear:\n",
        "\n",
        "  def __init__(self, fan_in, fan_out, bias=True):\n",
        "    self.weight = torch.randn((fan_in, fan_out), generator=g) / fan_in ** 0.5\n",
        "    self.bias = torch.zeros(fan_out) if bias else None\n",
        "\n",
        "  def __call__(self, x):\n",
        "    self.out = x @ self.weight\n",
        "\n",
        "    if self.bias is not None:\n",
        "      self.out += self.bias\n",
        "\n",
        "    return self.out\n",
        "\n",
        "  def parameters(self):\n",
        "    return [self.weight] + ([] if self.bias is None else [self.bias])\n",
        "\n",
        "#-------------------------------------------------------------------------\n",
        "class BatchNorm1d:\n",
        "\n",
        "  def __init__(self, dim, eps=0.00001, momentum=0.1):\n",
        "    self.eps = eps\n",
        "    self.momentum = momentum\n",
        "    self.training = True\n",
        "    # parameters (with backprop)\n",
        "    self.gamma = torch.ones(dim)\n",
        "    self.beta = torch.zeros(dim)\n",
        "    # buffers (without backprop)\n",
        "    self.running_mean = torch.zeros(dim)\n",
        "    self.running_var = torch.ones(dim)\n",
        "\n",
        "  def __call__(self, x):\n",
        "    # forward pass\n",
        "    if self.training:\n",
        "      if x.ndim == 2:\n",
        "        dim = 0\n",
        "      elif x.ndim == 3:\n",
        "        dim = (0, 1)\n",
        "\n",
        "      xmean = x.mean(dim, keepdim=True)\n",
        "      xvar = x.var(dim, keepdim=True)\n",
        "    else:\n",
        "      xmean = self.running_mean\n",
        "      xvar = self.running_var\n",
        "    xhat = (x - xmean) / torch.sqrt(xvar + self.eps)\n",
        "    self.out = self.gamma * xhat + self.beta\n",
        "\n",
        "    # update buffers\n",
        "    if self.training:\n",
        "      with torch.no_grad():\n",
        "        self.running_mean = (1 - self.momentum) * self.running_mean + self.momentum * xmean\n",
        "        self.running_var = (1 - self.momentum) * self.running_var + self.momentum * xvar\n",
        "    return self.out\n",
        "\n",
        "  def parameters(self):\n",
        "    return [self.gamma, self.beta]\n",
        "\n",
        "#-------------------------------------------------------------------------\n",
        "class Tanh:\n",
        "\n",
        "  def __call__(self, x):\n",
        "    self.out = torch.tanh(x)\n",
        "    return self.out\n",
        "\n",
        "  def parameters(self):\n",
        "    return []\n",
        "\n",
        "#-------------------------------------------------------------------------\n",
        "class Embedding:\n",
        "\n",
        "  def __init__(self, num_embeddings, embedding_dim):\n",
        "    self.weight = torch.randn((num_embeddings, embedding_dim))\n",
        "\n",
        "  def __call__(self, IX):\n",
        "    self.out = self.weight[IX]\n",
        "    return self.out\n",
        "\n",
        "  def parameters(self):\n",
        "    return [self.weight]\n",
        "\n",
        "#-------------------------------------------------------------------------\n",
        "class FlattenConsecutive:\n",
        "\n",
        "  def __init__(self, n):\n",
        "    self.n = n\n",
        "\n",
        "  def __call__(self, x):\n",
        "    # self.out = x.view(x.shape[0], -1)\n",
        "    B, T, C = x.shape\n",
        "    x = x.view(B, T//self.n, C * self.n)\n",
        "\n",
        "    if x.shape[1] == 1:\n",
        "      x = x.squeeze(1)\n",
        "    self.out = x\n",
        "    return self.out\n",
        "\n",
        "  def parameters(self):\n",
        "    return []\n",
        "\n",
        "#-------------------------------------------------------------------------\n",
        "class Sequential:\n",
        "\n",
        "  def __init__(self, layers):\n",
        "    self.layers = layers\n",
        "\n",
        "  def __call__(self, x):\n",
        "    for layer in self.layers:\n",
        "      x = layer(x)\n",
        "    self.out = x\n",
        "    return self.out\n",
        "\n",
        "  def parameters(self):\n",
        "    # all parameters in one list\n",
        "    return [p for layer in self.layers for p in layer.parameters()]\n"
      ],
      "metadata": {
        "id": "7VPwQ78z4QWS"
      },
      "execution_count": 94,
      "outputs": []
    },
    {
      "cell_type": "code",
      "source": [
        " torch.manual_seed(42);"
      ],
      "metadata": {
        "id": "5Kk_He9H4-58"
      },
      "execution_count": 95,
      "outputs": []
    },
    {
      "cell_type": "code",
      "source": [
        "# Old models\n",
        "\n",
        "\n",
        "# C = torch.randn((vocab_size, n_embd))\n",
        "\n",
        "# layers = [\n",
        "#     Embedding(vocab_size, n_embd),    # note\n",
        "#     Flatten(),\n",
        "#     Linear(n_embd * block_size, n_hidden, bias=False),\n",
        "#     BatchNorm1d(n_hidden),\n",
        "#     Tanh(),\n",
        "#     Linear(n_hidden, vocab_size),\n",
        "# ]\n",
        "\n",
        "# model = Sequential([\n",
        "#     Embedding(vocab_size, n_embd),    # note\n",
        "#     FlattenConsecutive(block_size),     # Flatten(),\n",
        "#     Linear(n_embd * block_size, n_hidden, bias=False),\n",
        "#     BatchNorm1d(n_hidden),\n",
        "#     Tanh(),\n",
        "#     Linear(n_hidden, vocab_size),\n",
        "# ])"
      ],
      "metadata": {
        "id": "PA8nniuqlHSF"
      },
      "execution_count": null,
      "outputs": []
    },
    {
      "cell_type": "code",
      "source": [
        "n_embd = 24  # dimensionality of char embedding vectors\n",
        "n_hidden = 128  # number of neurons in the hidden layer\n",
        "\n",
        "\n",
        "model = Sequential([       # Naive versopm\n",
        "    Embedding(vocab_size, n_embd),\n",
        "    FlattenConsecutive(2), Linear(n_embd * 2, n_hidden, bias=False),\n",
        "    BatchNorm1d(n_hidden), Tanh(),\n",
        "    FlattenConsecutive(2), Linear(n_hidden * 2, n_hidden, bias=False),\n",
        "    BatchNorm1d(n_hidden), Tanh(),\n",
        "    FlattenConsecutive(2), Linear(n_hidden * 2, n_hidden, bias=False),\n",
        "    BatchNorm1d(n_hidden), Tanh(),\n",
        "    Linear(n_hidden, vocab_size),\n",
        "])\n",
        "\n",
        "\n",
        "with torch.no_grad():\n",
        "  # last layer\n",
        "  #layers[-1].weight *= 0.1\n",
        "  model.layers[-1].weight *= 0.1\n",
        "\n",
        "# parameters = [C] + [p for layer in layers for p in layer.parameters()]\n",
        "# parameters = [p for layer in layers for p in layer.parameters()]   # we deleted C\n",
        "parameters = model.parameters()\n",
        "\n",
        "print(sum(p.nelement() for p in parameters))\n",
        "for p in parameters:\n",
        "  p.requires_grad = True"
      ],
      "metadata": {
        "colab": {
          "base_uri": "https://localhost:8080/"
        },
        "id": "b-09qg813Muk",
        "outputId": "2f30e57e-9447-4fbd-b95a-ae10f0df2e29"
      },
      "execution_count": 105,
      "outputs": [
        {
          "output_type": "stream",
          "name": "stdout",
          "text": [
            "76579\n"
          ]
        }
      ]
    },
    {
      "cell_type": "code",
      "source": [
        "ix = torch.randint(0, Xtr.shape[0], (32,))\n",
        "Xb, Yb = Xtr[ix], Ytr[ix]\n",
        "logits = model(Xb)\n",
        "print(Xb.shape)\n",
        "Xb"
      ],
      "metadata": {
        "colab": {
          "base_uri": "https://localhost:8080/"
        },
        "id": "eLwKFksQWa_l",
        "outputId": "86c6685c-3673-4d8c-e8f2-3798cbf9986f"
      },
      "execution_count": 101,
      "outputs": [
        {
          "output_type": "stream",
          "name": "stdout",
          "text": [
            "torch.Size([4, 8])\n"
          ]
        },
        {
          "output_type": "execute_result",
          "data": {
            "text/plain": [
              "tensor([[ 0,  0,  0,  0,  0,  0,  0, 14],\n",
              "        [ 0,  0,  0,  0,  0,  1, 12,  1],\n",
              "        [ 0,  0,  0,  0,  0, 13,  1, 18],\n",
              "        [ 0,  0,  0,  0,  0,  0,  0, 11]])"
            ]
          },
          "metadata": {},
          "execution_count": 101
        }
      ]
    },
    {
      "cell_type": "code",
      "source": [
        "for layer in model.layers:\n",
        "  print(layer.__class__.__name__, ':', tuple(layer.out.shape))"
      ],
      "metadata": {
        "colab": {
          "base_uri": "https://localhost:8080/"
        },
        "id": "6oZdierBbTRH",
        "outputId": "75c7a82d-ebc2-4d6e-8be0-6b818e6e6cc7"
      },
      "execution_count": 112,
      "outputs": [
        {
          "output_type": "stream",
          "name": "stdout",
          "text": [
            "Embedding : (1, 8, 24)\n",
            "FlattenConsecutive : (1, 4, 48)\n",
            "Linear : (1, 4, 128)\n",
            "BatchNorm1d : (1, 4, 128)\n",
            "Tanh : (1, 4, 128)\n",
            "FlattenConsecutive : (1, 2, 256)\n",
            "Linear : (1, 2, 128)\n",
            "BatchNorm1d : (1, 2, 128)\n",
            "Tanh : (1, 2, 128)\n",
            "FlattenConsecutive : (1, 256)\n",
            "Linear : (1, 128)\n",
            "BatchNorm1d : (1, 128)\n",
            "Tanh : (1, 128)\n",
            "Linear : (1, 27)\n"
          ]
        }
      ]
    },
    {
      "cell_type": "code",
      "source": [
        "model.layers[0].out.shape # output shape of embedding layer"
      ],
      "metadata": {
        "colab": {
          "base_uri": "https://localhost:8080/"
        },
        "id": "3XHpglpqWqEl",
        "outputId": "6202b361-8241-4427-8e40-826867eefc9f"
      },
      "execution_count": 67,
      "outputs": [
        {
          "output_type": "execute_result",
          "data": {
            "text/plain": [
              "torch.Size([4, 8, 10])"
            ]
          },
          "metadata": {},
          "execution_count": 67
        }
      ]
    },
    {
      "cell_type": "code",
      "source": [
        "model.layers[1].out.shape # output shape of Flatten layer"
      ],
      "metadata": {
        "colab": {
          "base_uri": "https://localhost:8080/"
        },
        "id": "Wyiz0maAWwRn",
        "outputId": "857d657f-9a08-4249-c641-2cef1286ee21"
      },
      "execution_count": 69,
      "outputs": [
        {
          "output_type": "execute_result",
          "data": {
            "text/plain": [
              "torch.Size([4, 80])"
            ]
          },
          "metadata": {},
          "execution_count": 69
        }
      ]
    },
    {
      "cell_type": "code",
      "source": [
        "model.layers[2].out.shape # output shape of Linear layer"
      ],
      "metadata": {
        "colab": {
          "base_uri": "https://localhost:8080/"
        },
        "id": "1aSc3kzdWxyH",
        "outputId": "bdc6c41b-4400-40b9-eb4c-736541cda2a9"
      },
      "execution_count": 70,
      "outputs": [
        {
          "output_type": "execute_result",
          "data": {
            "text/plain": [
              "torch.Size([4, 200])"
            ]
          },
          "metadata": {},
          "execution_count": 70
        }
      ]
    },
    {
      "cell_type": "code",
      "source": [
        "e = torch.randn(4, 8, 10)\n",
        "explicit = torch.cat([e[:, ::2, :], e[:, 1::2, :]], dim=2)\n",
        "explicit.shape"
      ],
      "metadata": {
        "colab": {
          "base_uri": "https://localhost:8080/"
        },
        "id": "7oZ3LOLuX2cc",
        "outputId": "a459063e-d225-458e-989b-e80052e6ae99"
      },
      "execution_count": 78,
      "outputs": [
        {
          "output_type": "execute_result",
          "data": {
            "text/plain": [
              "torch.Size([4, 4, 20])"
            ]
          },
          "metadata": {},
          "execution_count": 78
        }
      ]
    },
    {
      "cell_type": "code",
      "source": [
        "(e.view(4, 4, 20) == explicit).all()"
      ],
      "metadata": {
        "colab": {
          "base_uri": "https://localhost:8080/"
        },
        "id": "UzKmwkpPZWKq",
        "outputId": "088cd238-4925-48f6-b54a-f62e7fd9e6c6"
      },
      "execution_count": 79,
      "outputs": [
        {
          "output_type": "execute_result",
          "data": {
            "text/plain": [
              "tensor(True)"
            ]
          },
          "metadata": {},
          "execution_count": 79
        }
      ]
    },
    {
      "cell_type": "code",
      "source": [
        "max_steps = 100000\n",
        "batch_size = 32\n",
        "lossi = []\n",
        "\n",
        "for i in range(max_steps):\n",
        "  ix = torch.randint(0, Xtr.shape[0], (batch_size,), generator=g)\n",
        "  Xb, Yb = Xtr[ix], Ytr[ix]    # batch\n",
        "\n",
        "  # old forward pass\n",
        "  # x = Xb\n",
        "  # for layer in layers:\n",
        "  #   x = layer(x)\n",
        "  # emb = C[Xb]                        # no need\n",
        "  # x = emb.view(emb.shape[0], -1)     # all are in layers\n",
        "\n",
        "  # loss = F.cross_entropy(x, Yb)   # loss function\n",
        "\n",
        "  # new forward pass\n",
        "\n",
        "  logits = model(Xb)\n",
        "  loss = F.cross_entropy(logits, Yb)\n",
        "\n",
        "  # backward pass\n",
        "  for p in parameters:\n",
        "    p.grad = None\n",
        "  loss.backward()\n",
        "\n",
        "  # update\n",
        "  # lr = 0.1\n",
        "  lr = 0.1 if i < 75000 else 0.01\n",
        "  for p in parameters:\n",
        "    p.data += -lr * p.grad\n",
        "\n",
        "  # track\n",
        "  if i % 10000 == 0:\n",
        "    print(f\"{i:7d}/{max_steps:7d}: {loss.item():.4f}\")\n",
        "  lossi.append(loss.log10().item())\n"
      ],
      "metadata": {
        "colab": {
          "base_uri": "https://localhost:8080/"
        },
        "id": "VuXpws2u3O0-",
        "outputId": "21a613fc-2557-4da3-dc9e-666b7dc3abf0"
      },
      "execution_count": 106,
      "outputs": [
        {
          "output_type": "stream",
          "name": "stdout",
          "text": [
            "      0/ 100000: 3.2909\n",
            "  10000/ 100000: 2.1896\n",
            "  20000/ 100000: 1.8233\n",
            "  30000/ 100000: 2.0866\n",
            "  40000/ 100000: 2.0140\n",
            "  50000/ 100000: 1.5972\n",
            "  60000/ 100000: 1.8076\n",
            "  70000/ 100000: 2.0516\n",
            "  80000/ 100000: 1.9876\n",
            "  90000/ 100000: 2.0746\n"
          ]
        }
      ]
    },
    {
      "cell_type": "code",
      "source": [
        "plt.plot(lossi)"
      ],
      "metadata": {
        "colab": {
          "base_uri": "https://localhost:8080/",
          "height": 447
        },
        "id": "8-absKJz3SZU",
        "outputId": "245941a9-8dd4-422a-da3b-aff391ac90f9"
      },
      "execution_count": 107,
      "outputs": [
        {
          "output_type": "execute_result",
          "data": {
            "text/plain": [
              "[<matplotlib.lines.Line2D at 0x7d67358644f0>]"
            ]
          },
          "metadata": {},
          "execution_count": 107
        },
        {
          "output_type": "display_data",
          "data": {
            "text/plain": [
              "<Figure size 640x480 with 1 Axes>"
            ],
            "image/png": "[encoded data removed]"
          },
          "metadata": {}
        }
      ]
    },
    {
      "cell_type": "code",
      "source": [
        "plt.plot(torch.tensor(lossi).view(-1, 1000).mean(1))"
      ],
      "metadata": {
        "colab": {
          "base_uri": "https://localhost:8080/",
          "height": 447
        },
        "id": "PS1CmDTA7GMa",
        "outputId": "c7ca1a98-7300-4ce5-d1ef-2b6550cf77a0"
      },
      "execution_count": 108,
      "outputs": [
        {
          "output_type": "execute_result",
          "data": {
            "text/plain": [
              "[<matplotlib.lines.Line2D at 0x7d67357b1ba0>]"
            ]
          },
          "metadata": {},
          "execution_count": 108
        },
        {
          "output_type": "display_data",
          "data": {
            "text/plain": [
              "<Figure size 640x480 with 1 Axes>"
            ],
            "image/png": "[encoded data removed]"
          },
          "metadata": {}
        }
      ]
    },
    {
      "cell_type": "code",
      "source": [
        "# putting layers into eval mode\n",
        "for layer in model.layers:\n",
        "  layer.training = False"
      ],
      "metadata": {
        "id": "gwNrtcc76Jzj"
      },
      "execution_count": 109,
      "outputs": []
    },
    {
      "cell_type": "code",
      "source": [
        "@torch.no_grad() # disables gradient tracking\n",
        "def split_loss(split):\n",
        "  x, y = {\n",
        "      'train': (Xtr, Ytr),\n",
        "      'val': (Xval, Yval),\n",
        "      'test': (Xtest, Ytest)\n",
        "  }[split]\n",
        "\n",
        "  logits = model(x)\n",
        "\n",
        "  # emb = C[x]\n",
        "  # x = emb.view(emb.shape[0], -1)\n",
        "  # for layer in layers:\n",
        "  #   x = layer(x)\n",
        "  loss = F.cross_entropy(logits, y)   # loss function\n",
        "  print(split, loss.item())\n",
        "\n",
        "split_loss('train')\n",
        "split_loss('val')"
      ],
      "metadata": {
        "colab": {
          "base_uri": "https://localhost:8080/"
        },
        "id": "z06ryLCc3YB2",
        "outputId": "27e90dab-8efe-405c-f73c-80da0dcbb91c"
      },
      "execution_count": 110,
      "outputs": [
        {
          "output_type": "stream",
          "name": "stdout",
          "text": [
            "train 1.8388862609863281\n",
            "val 1.987472653388977\n"
          ]
        }
      ]
    },
    {
      "cell_type": "code",
      "source": [
        "# sample\n",
        "\n",
        "for _ in range(20):\n",
        "\n",
        "  out = []\n",
        "  context = [0] * block_size\n",
        "  while True:\n",
        "    logits = model(torch.tensor([context]))\n",
        "    # emb = C[torch.tensor([context])]\n",
        "    # h = torch.tanh(emb.view(1, -1) @ W1 + b1)\n",
        "    # logits = h @ W2 + b2\n",
        "    probs = F.softmax(logits, dim=1)\n",
        "    ix = torch.multinomial(probs, num_samples=1).item()\n",
        "\n",
        "    context = context[1:] + [ix]\n",
        "    out.append(ix)\n",
        "    if ix == 0:\n",
        "      break\n",
        "\n",
        "  print(''.join(itos[i] for i in out))"
      ],
      "metadata": {
        "colab": {
          "base_uri": "https://localhost:8080/"
        },
        "id": "UMgrQpFZ3bWX",
        "outputId": "63d46311-496d-46fc-d47a-696545834cc6"
      },
      "execution_count": 111,
      "outputs": [
        {
          "output_type": "stream",
          "name": "stdout",
          "text": [
            "mohamade.\n",
            "lennah.\n",
            "mariana.\n",
            "salani.\n",
            "miylea.\n",
            "kafsen.\n",
            "mangelizah.\n",
            "kengeletso.\n",
            "prisson.\n",
            "asher.\n",
            "eiko.\n",
            "ramsad.\n",
            "cambri.\n",
            "kashley.\n",
            "brylond.\n",
            "hamir.\n",
            "carler.\n",
            "joosetouz.\n",
            "nierzen.\n",
            "arza.\n"
          ]
        }
      ]
    },
    {
      "cell_type": "code",
      "source": [],
      "metadata": {
        "id": "tvJPo-KY3dnz"
      },
      "execution_count": null,
      "outputs": []
    }
  ]
}