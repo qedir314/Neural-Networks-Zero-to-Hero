{
  "nbformat": 4,
  "nbformat_minor": 0,
  "metadata": {
    "colab": {
      "provenance": [],
      "authorship_tag": "ABX9TyNgnNo5AygNR2vRiEyMThlb",
      "include_colab_link": true
    },
    "kernelspec": {
      "name": "python3",
      "display_name": "Python 3"
    },
    "language_info": {
      "name": "python"
    }
  },
  "cells": [
    {
      "cell_type": "markdown",
      "metadata": {
        "id": "view-in-github",
        "colab_type": "text"
      },
      "source": [
        "<a href=\"https://colab.research.google.com/github/qedir314/Neural-Networks-Zero-to-Hero/blob/main/makemore_2_mlp.ipynb\" target=\"_parent\"><img src=\"https://colab.research.google.com/assets/colab-badge.svg\" alt=\"Open In Colab\"/></a>"
      ]
    },
    {
      "cell_type": "code",
      "execution_count": 27,
      "metadata": {
        "id": "bXbpTQjHF4xz"
      },
      "outputs": [],
      "source": [
        "import torch\n",
        "import torch.nn.functional as F\n",
        "import matplotlib.pyplot as plt\n",
        "%matplotlib inline"
      ]
    },
    {
      "cell_type": "code",
      "source": [
        "words = open('/content/names.txt', 'r').read().splitlines()\n",
        "words[:5]"
      ],
      "metadata": {
        "colab": {
          "base_uri": "https://localhost:8080/"
        },
        "id": "bFwzEcEdGFeJ",
        "outputId": "86765ea9-3483-46a5-ddf8-a532ceddf8ce"
      },
      "execution_count": 28,
      "outputs": [
        {
          "output_type": "execute_result",
          "data": {
            "text/plain": [
              "['emma', 'olivia', 'ava', 'isabella', 'sophia']"
            ]
          },
          "metadata": {},
          "execution_count": 28
        }
      ]
    },
    {
      "cell_type": "code",
      "source": [
        "len(words)"
      ],
      "metadata": {
        "colab": {
          "base_uri": "https://localhost:8080/"
        },
        "id": "TmYJXPX0GRUj",
        "outputId": "01ca9e46-d76b-4003-9c8c-f0184b142419"
      },
      "execution_count": 29,
      "outputs": [
        {
          "output_type": "execute_result",
          "data": {
            "text/plain": [
              "32033"
            ]
          },
          "metadata": {},
          "execution_count": 29
        }
      ]
    },
    {
      "cell_type": "code",
      "source": [
        "chars = sorted(list(set(''.join(words))))\n",
        "stoi = {s: i+1 for i,s in enumerate(chars)}\n",
        "stoi['.'] = 0\n",
        "itos = {i:s for s, i in stoi.items()}\n",
        "print(itos)"
      ],
      "metadata": {
        "colab": {
          "base_uri": "https://localhost:8080/"
        },
        "id": "EUsV1DM0GWMV",
        "outputId": "7b3e5206-6a84-498b-e643-d555e8690145"
      },
      "execution_count": 30,
      "outputs": [
        {
          "output_type": "stream",
          "name": "stdout",
          "text": [
            "{1: 'a', 2: 'b', 3: 'c', 4: 'd', 5: 'e', 6: 'f', 7: 'g', 8: 'h', 9: 'i', 10: 'j', 11: 'k', 12: 'l', 13: 'm', 14: 'n', 15: 'o', 16: 'p', 17: 'q', 18: 'r', 19: 's', 20: 't', 21: 'u', 22: 'v', 23: 'w', 24: 'x', 25: 'y', 26: 'z', 0: '.'}\n"
          ]
        }
      ]
    },
    {
      "cell_type": "code",
      "source": [
        "block_size = 3\n",
        "X, Y = [], []\n",
        "for word in words[:5]:\n",
        "\n",
        "  print(word)\n",
        "  context = [0] * block_size\n",
        "  for ch in word + '.':\n",
        "    ix = stoi[ch]\n",
        "    X.append(context)\n",
        "    Y.append(ix)\n",
        "    print(''.join(itos[i] for i in context), '---->', itos[ix])\n",
        "    context = context[1:] + [ix]\n",
        "\n",
        "X = torch.tensor(X)\n",
        "Y = torch.tensor(Y)"
      ],
      "metadata": {
        "colab": {
          "base_uri": "https://localhost:8080/"
        },
        "id": "plV4I1PhGmdz",
        "outputId": "9c7d2b27-4d0b-4fb2-e5cf-66a9b25b5d62"
      },
      "execution_count": 31,
      "outputs": [
        {
          "output_type": "stream",
          "name": "stdout",
          "text": [
            "emma\n",
            "... ----> e\n",
            "..e ----> m\n",
            ".em ----> m\n",
            "emm ----> a\n",
            "mma ----> .\n",
            "olivia\n",
            "... ----> o\n",
            "..o ----> l\n",
            ".ol ----> i\n",
            "oli ----> v\n",
            "liv ----> i\n",
            "ivi ----> a\n",
            "via ----> .\n",
            "ava\n",
            "... ----> a\n",
            "..a ----> v\n",
            ".av ----> a\n",
            "ava ----> .\n",
            "isabella\n",
            "... ----> i\n",
            "..i ----> s\n",
            ".is ----> a\n",
            "isa ----> b\n",
            "sab ----> e\n",
            "abe ----> l\n",
            "bel ----> l\n",
            "ell ----> a\n",
            "lla ----> .\n",
            "sophia\n",
            "... ----> s\n",
            "..s ----> o\n",
            ".so ----> p\n",
            "sop ----> h\n",
            "oph ----> i\n",
            "phi ----> a\n",
            "hia ----> .\n"
          ]
        }
      ]
    },
    {
      "cell_type": "code",
      "source": [
        "X.shape, X.dtype, Y.shape, Y.dtype"
      ],
      "metadata": {
        "colab": {
          "base_uri": "https://localhost:8080/"
        },
        "id": "tPGuOuv2J0og",
        "outputId": "c6adaf8f-b783-456f-982c-1b997362d697"
      },
      "execution_count": 32,
      "outputs": [
        {
          "output_type": "execute_result",
          "data": {
            "text/plain": [
              "(torch.Size([32, 3]), torch.int64, torch.Size([32]), torch.int64)"
            ]
          },
          "metadata": {},
          "execution_count": 32
        }
      ]
    },
    {
      "cell_type": "code",
      "source": [
        "C = torch.randn((27, 2))"
      ],
      "metadata": {
        "id": "SdbZCbznK2K8"
      },
      "execution_count": 33,
      "outputs": []
    },
    {
      "cell_type": "code",
      "source": [
        "C[5]"
      ],
      "metadata": {
        "colab": {
          "base_uri": "https://localhost:8080/"
        },
        "id": "pkuDlgW6Wuk7",
        "outputId": "298c84ac-abd3-4ac6-f310-07fa4d63c2a3"
      },
      "execution_count": 34,
      "outputs": [
        {
          "output_type": "execute_result",
          "data": {
            "text/plain": [
              "tensor([ 2.1893, -1.3360])"
            ]
          },
          "metadata": {},
          "execution_count": 34
        }
      ]
    },
    {
      "cell_type": "code",
      "source": [
        "emb = C[X]\n",
        "emb.shape"
      ],
      "metadata": {
        "colab": {
          "base_uri": "https://localhost:8080/"
        },
        "id": "f-TWtaBqWu2-",
        "outputId": "9347f8f4-62bc-407d-ac6d-3acac42e5c23"
      },
      "execution_count": 35,
      "outputs": [
        {
          "output_type": "execute_result",
          "data": {
            "text/plain": [
              "torch.Size([32, 3, 2])"
            ]
          },
          "metadata": {},
          "execution_count": 35
        }
      ]
    },
    {
      "cell_type": "code",
      "source": [
        "W1 = torch.randn((6, 100))\n",
        "b1 = torch.randn(100)"
      ],
      "metadata": {
        "id": "Kry-6D-wX2dd"
      },
      "execution_count": 36,
      "outputs": []
    },
    {
      "cell_type": "code",
      "source": [
        "# emb @ W1 + b1\n",
        "# Won't work"
      ],
      "metadata": {
        "id": "vIWC0jIEZFHy"
      },
      "execution_count": 37,
      "outputs": []
    },
    {
      "cell_type": "code",
      "source": [
        "torch.cat([emb[:, 0, :], emb[:, 1, :], emb[:, 2, :]], 1).shape"
      ],
      "metadata": {
        "colab": {
          "base_uri": "https://localhost:8080/"
        },
        "id": "EYKXmKiGZHPo",
        "outputId": "a2e51f4f-8797-47ca-f81c-0d9d5512b144"
      },
      "execution_count": 38,
      "outputs": [
        {
          "output_type": "execute_result",
          "data": {
            "text/plain": [
              "torch.Size([32, 6])"
            ]
          },
          "metadata": {},
          "execution_count": 38
        }
      ]
    },
    {
      "cell_type": "code",
      "source": [
        "torch.cat(torch.unbind(emb, 1), 1).shape"
      ],
      "metadata": {
        "colab": {
          "base_uri": "https://localhost:8080/"
        },
        "id": "Sz6CZRcNZYNU",
        "outputId": "3daa94a8-602e-41d8-f288-20a67fb3a3ed"
      },
      "execution_count": 39,
      "outputs": [
        {
          "output_type": "execute_result",
          "data": {
            "text/plain": [
              "torch.Size([32, 6])"
            ]
          },
          "metadata": {},
          "execution_count": 39
        }
      ]
    },
    {
      "cell_type": "code",
      "source": [
        "emb.view(32, 6) == torch.cat(torch.unbind(emb, 1), 1)"
      ],
      "metadata": {
        "colab": {
          "base_uri": "https://localhost:8080/"
        },
        "id": "A0GNY_KtZ0DD",
        "outputId": "32272679-b61e-42f5-98ff-7dd5f401296d"
      },
      "execution_count": 40,
      "outputs": [
        {
          "output_type": "execute_result",
          "data": {
            "text/plain": [
              "tensor([[True, True, True, True, True, True],\n",
              "        [True, True, True, True, True, True],\n",
              "        [True, True, True, True, True, True],\n",
              "        [True, True, True, True, True, True],\n",
              "        [True, True, True, True, True, True],\n",
              "        [True, True, True, True, True, True],\n",
              "        [True, True, True, True, True, True],\n",
              "        [True, True, True, True, True, True],\n",
              "        [True, True, True, True, True, True],\n",
              "        [True, True, True, True, True, True],\n",
              "        [True, True, True, True, True, True],\n",
              "        [True, True, True, True, True, True],\n",
              "        [True, True, True, True, True, True],\n",
              "        [True, True, True, True, True, True],\n",
              "        [True, True, True, True, True, True],\n",
              "        [True, True, True, True, True, True],\n",
              "        [True, True, True, True, True, True],\n",
              "        [True, True, True, True, True, True],\n",
              "        [True, True, True, True, True, True],\n",
              "        [True, True, True, True, True, True],\n",
              "        [True, True, True, True, True, True],\n",
              "        [True, True, True, True, True, True],\n",
              "        [True, True, True, True, True, True],\n",
              "        [True, True, True, True, True, True],\n",
              "        [True, True, True, True, True, True],\n",
              "        [True, True, True, True, True, True],\n",
              "        [True, True, True, True, True, True],\n",
              "        [True, True, True, True, True, True],\n",
              "        [True, True, True, True, True, True],\n",
              "        [True, True, True, True, True, True],\n",
              "        [True, True, True, True, True, True],\n",
              "        [True, True, True, True, True, True]])"
            ]
          },
          "metadata": {},
          "execution_count": 40
        }
      ]
    },
    {
      "cell_type": "code",
      "source": [
        "# h = emb.view(-1, 6) @ W1 + b1\n",
        "h = emb.view(emb.shape[0], 6) @ W1 + b1\n",
        "h.shape"
      ],
      "metadata": {
        "colab": {
          "base_uri": "https://localhost:8080/"
        },
        "id": "B10BtsTtacP1",
        "outputId": "19058e84-4fa6-4c5d-8b3c-c7f1541e4b06"
      },
      "execution_count": 41,
      "outputs": [
        {
          "output_type": "execute_result",
          "data": {
            "text/plain": [
              "torch.Size([32, 100])"
            ]
          },
          "metadata": {},
          "execution_count": 41
        }
      ]
    },
    {
      "cell_type": "code",
      "source": [
        "h = torch.tanh(h)\n",
        "h.shape, h"
      ],
      "metadata": {
        "colab": {
          "base_uri": "https://localhost:8080/"
        },
        "id": "oG91BwEqa0uU",
        "outputId": "2ee0dab9-6111-44a1-9052-764f654878dd"
      },
      "execution_count": 42,
      "outputs": [
        {
          "output_type": "execute_result",
          "data": {
            "text/plain": [
              "(torch.Size([32, 100]),\n",
              " tensor([[ 0.2475, -0.2555,  0.7739,  ...,  0.6847,  0.0516, -0.7781],\n",
              "         [-1.0000, -0.3517,  0.3354,  ...,  0.9853, -0.2786, -0.1827],\n",
              "         [-0.9994,  0.9521,  0.8897,  ...,  1.0000,  0.9945,  0.9774],\n",
              "         ...,\n",
              "         [ 0.2938,  0.9601, -0.3284,  ...,  0.9837, -0.6362, -0.9978],\n",
              "         [-0.8960,  0.9215,  0.6674,  ..., -0.9889, -0.7461, -0.9693],\n",
              "         [ 0.8642,  0.9933,  0.7577,  ...,  0.9630, -0.4088, -0.9938]]))"
            ]
          },
          "metadata": {},
          "execution_count": 42
        }
      ]
    },
    {
      "cell_type": "code",
      "source": [
        "W2 = torch.randn((100, 27))\n",
        "b2 = torch.randn(27)"
      ],
      "metadata": {
        "id": "GQR31YWwbVb2"
      },
      "execution_count": 43,
      "outputs": []
    },
    {
      "cell_type": "code",
      "source": [
        "logits = h @ W2 + b2"
      ],
      "metadata": {
        "id": "ggvxqUCoef-K"
      },
      "execution_count": 44,
      "outputs": []
    },
    {
      "cell_type": "code",
      "source": [
        "logits.shape"
      ],
      "metadata": {
        "colab": {
          "base_uri": "https://localhost:8080/"
        },
        "id": "1BzGlHGTeiid",
        "outputId": "3a35b8bd-5108-4f7d-b565-fe7bc4657157"
      },
      "execution_count": 45,
      "outputs": [
        {
          "output_type": "execute_result",
          "data": {
            "text/plain": [
              "torch.Size([32, 27])"
            ]
          },
          "metadata": {},
          "execution_count": 45
        }
      ]
    },
    {
      "cell_type": "code",
      "source": [
        "counts = logits.exp()\n",
        "probs = counts / counts.sum(1, keepdims=True)"
      ],
      "metadata": {
        "id": "rM_yyN8deroV"
      },
      "execution_count": 46,
      "outputs": []
    },
    {
      "cell_type": "code",
      "source": [
        "probs.shape"
      ],
      "metadata": {
        "id": "lyhLJCoEe4Y1",
        "outputId": "0b5a27e5-f429-4d94-b9a2-438274ffb88f",
        "colab": {
          "base_uri": "https://localhost:8080/"
        }
      },
      "execution_count": 47,
      "outputs": [
        {
          "output_type": "execute_result",
          "data": {
            "text/plain": [
              "torch.Size([32, 27])"
            ]
          },
          "metadata": {},
          "execution_count": 47
        }
      ]
    },
    {
      "cell_type": "code",
      "source": [
        "loss = -probs[torch.arange(32), Y].log().mean()\n",
        "loss"
      ],
      "metadata": {
        "id": "YRQG9xkye7NX",
        "colab": {
          "base_uri": "https://localhost:8080/"
        },
        "outputId": "7dd72eef-128d-4651-8915-7365a979369d"
      },
      "execution_count": 48,
      "outputs": [
        {
          "output_type": "execute_result",
          "data": {
            "text/plain": [
              "tensor(20.7933)"
            ]
          },
          "metadata": {},
          "execution_count": 48
        }
      ]
    },
    {
      "cell_type": "markdown",
      "source": [
        "## Respectable version"
      ],
      "metadata": {
        "id": "y9kgYqSqpOiz"
      }
    },
    {
      "cell_type": "code",
      "source": [
        "X.shape, Y.shape"
      ],
      "metadata": {
        "colab": {
          "base_uri": "https://localhost:8080/"
        },
        "id": "qGIk5JcNo3nt",
        "outputId": "be6cd2c3-cd34-4004-ecf9-2819451d2913"
      },
      "execution_count": 49,
      "outputs": [
        {
          "output_type": "execute_result",
          "data": {
            "text/plain": [
              "(torch.Size([32, 3]), torch.Size([32]))"
            ]
          },
          "metadata": {},
          "execution_count": 49
        }
      ]
    },
    {
      "cell_type": "code",
      "source": [
        "g = torch.Generator().manual_seed(214412)\n",
        "C = torch.randn((27,2), generator=g)\n",
        "W1 = torch.randn((6, 100), generator=g)\n",
        "b1 = torch.randn(100, generator=g)\n",
        "W2 = torch.randn((100, 27), generator=g)\n",
        "b2 = torch.randn(27, generator=g)\n",
        "parameters = [C, W1, b1, W2, b2]"
      ],
      "metadata": {
        "id": "38CC432_pXIf"
      },
      "execution_count": 50,
      "outputs": []
    },
    {
      "cell_type": "code",
      "source": [
        "sum(p.nelement() for p in parameters)"
      ],
      "metadata": {
        "colab": {
          "base_uri": "https://localhost:8080/"
        },
        "id": "eAJLAV2Bp7yv",
        "outputId": "b1c708bb-6c39-48ad-827a-5fc6d5dcb247"
      },
      "execution_count": 51,
      "outputs": [
        {
          "output_type": "execute_result",
          "data": {
            "text/plain": [
              "3481"
            ]
          },
          "metadata": {},
          "execution_count": 51
        }
      ]
    },
    {
      "cell_type": "code",
      "source": [
        "for p in parameters:\n",
        "  p.requires_grad = True"
      ],
      "metadata": {
        "id": "ubaC5WjTs5ZY"
      },
      "execution_count": 57,
      "outputs": []
    },
    {
      "cell_type": "code",
      "source": [
        "for _ in range(100):\n",
        "  # forward pass\n",
        "  emb = C[X]\n",
        "  h = torch.tanh(emb.view(-1, 6) @ W1 + b1)  # shape (32, 100)\n",
        "  logits = h @ W2 + b2 # shape (32, 27)\n",
        "  # counts = logits.exp()\n",
        "  # probs = counts / counts.sum(1, keepdims=True)\n",
        "  # loss = -probs[torch.arange(32), Y].log().mean()\n",
        "  # loss\n",
        "  loss = F.cross_entropy(logits, Y)\n",
        "  if _ % 10 == 0:\n",
        "    print(loss.item())\n",
        "\n",
        "  # backward pass\n",
        "  for p in parameters:\n",
        "    p.grad = None\n",
        "  loss.backward()\n",
        "\n",
        "  # update\n",
        "  for p in parameters:\n",
        "    p.data += -0.1 * p.grad"
      ],
      "metadata": {
        "colab": {
          "base_uri": "https://localhost:8080/"
        },
        "id": "v00SPaizp_-n",
        "outputId": "10693680-ca85-4bd2-ec1b-4f05baa95ba3"
      },
      "execution_count": 61,
      "outputs": [
        {
          "output_type": "stream",
          "name": "stdout",
          "text": [
            "0.34751102328300476\n",
            "0.344429612159729\n",
            "0.34098830819129944\n",
            "0.33713817596435547\n",
            "0.33288902044296265\n",
            "0.32833412289619446\n",
            "0.3236420154571533\n",
            "0.3190099895000458\n",
            "0.31460270285606384\n",
            "0.3105136752128601\n"
          ]
        }
      ]
    },
    {
      "cell_type": "code",
      "source": [
        "logits.max(1)"
      ],
      "metadata": {
        "id": "GuJvUfh5rFcV",
        "colab": {
          "base_uri": "https://localhost:8080/"
        },
        "outputId": "1c2a41ed-cc0f-48a8-ad79-623bea61a4f2"
      },
      "execution_count": 63,
      "outputs": [
        {
          "output_type": "execute_result",
          "data": {
            "text/plain": [
              "torch.return_types.max(\n",
              "values=tensor([ 7.8922, 13.0984, 12.9815, 15.8731, 16.2024,  7.8922, 10.7355, 12.6147,\n",
              "        11.1286, 15.9511,  9.6406, 15.6267,  7.8922, 15.7948, 17.0829, 16.1469,\n",
              "         7.8922,  9.4709, 16.9443, 14.2421, 17.2381, 13.0989, 15.1578, 15.7263,\n",
              "        16.2310,  7.8922, 16.2465, 13.7000, 13.7903, 13.2823, 14.4496, 14.6550],\n",
              "       grad_fn=<MaxBackward0>),\n",
              "indices=tensor([19, 13, 13,  1,  0, 19, 12,  9, 22,  9,  1,  0, 19, 22,  1,  0, 19, 19,\n",
              "         1,  2,  5, 12, 12,  1,  0, 19, 15, 16,  8,  9,  1,  0]))"
            ]
          },
          "metadata": {},
          "execution_count": 63
        }
      ]
    },
    {
      "cell_type": "code",
      "source": [
        "Y"
      ],
      "metadata": {
        "colab": {
          "base_uri": "https://localhost:8080/"
        },
        "id": "bdnUpp6tq3yI",
        "outputId": "955cb975-e207-42dc-b7bf-763f3231c9c6"
      },
      "execution_count": 65,
      "outputs": [
        {
          "output_type": "execute_result",
          "data": {
            "text/plain": [
              "tensor([ 5, 13, 13,  1,  0, 15, 12,  9, 22,  9,  1,  0,  1, 22,  1,  0,  9, 19,\n",
              "         1,  2,  5, 12, 12,  1,  0, 19, 15, 16,  8,  9,  1,  0])"
            ]
          },
          "metadata": {},
          "execution_count": 65
        }
      ]
    },
    {
      "cell_type": "markdown",
      "source": [
        "## Training on the full dataset"
      ],
      "metadata": {
        "id": "XsloDHUjt62i"
      }
    },
    {
      "cell_type": "code",
      "source": [
        "block_size = 3\n",
        "X, Y = [], []\n",
        "for word in words:\n",
        "\n",
        "  context = [0] * block_size\n",
        "  for ch in word + '.':\n",
        "    ix = stoi[ch]\n",
        "    X.append(context)\n",
        "    Y.append(ix)\n",
        "\n",
        "    context = context[1:] + [ix]\n",
        "\n",
        "X = torch.tensor(X)\n",
        "Y = torch.tensor(Y)"
      ],
      "metadata": {
        "id": "w6TIi7DktslO"
      },
      "execution_count": 157,
      "outputs": []
    },
    {
      "cell_type": "code",
      "source": [
        "X.shape, Y.shape"
      ],
      "metadata": {
        "colab": {
          "base_uri": "https://localhost:8080/"
        },
        "id": "AcYF9mi0uErb",
        "outputId": "d097b481-a57a-4573-df9c-ba6d57a94a60"
      },
      "execution_count": 158,
      "outputs": [
        {
          "output_type": "execute_result",
          "data": {
            "text/plain": [
              "(torch.Size([228146, 3]), torch.Size([228146]))"
            ]
          },
          "metadata": {},
          "execution_count": 158
        }
      ]
    },
    {
      "cell_type": "code",
      "source": [
        "C = torch.randn((27, 2))\n",
        "emb = C[X]\n",
        "emb.shape"
      ],
      "metadata": {
        "colab": {
          "base_uri": "https://localhost:8080/"
        },
        "id": "URzsZGgYuIui",
        "outputId": "1323b4d6-b2c4-4a38-f1a2-ecaf11198493"
      },
      "execution_count": 159,
      "outputs": [
        {
          "output_type": "execute_result",
          "data": {
            "text/plain": [
              "torch.Size([228146, 3, 2])"
            ]
          },
          "metadata": {},
          "execution_count": 159
        }
      ]
    },
    {
      "cell_type": "code",
      "source": [
        "g = torch.Generator().manual_seed(214412)\n",
        "C = torch.randn((27,2), generator=g)\n",
        "W1 = torch.randn((6, 100), generator=g)\n",
        "b1 = torch.randn(100, generator=g)\n",
        "W2 = torch.randn((100, 27), generator=g)\n",
        "b2 = torch.randn(27, generator=g)\n",
        "parameters = [C, W1, b1, W2, b2]\n",
        "\n",
        "for p in parameters:\n",
        "  p.requires_grad = True"
      ],
      "metadata": {
        "id": "czHZOJ84uYSc"
      },
      "execution_count": 168,
      "outputs": []
    },
    {
      "cell_type": "code",
      "source": [
        "# lre = torch.linspace(-3, 0, 1000)\n",
        "# lrs = 10 ** lre"
      ],
      "metadata": {
        "id": "EtbtLnLyav4k"
      },
      "execution_count": 165,
      "outputs": []
    },
    {
      "cell_type": "code",
      "source": [
        "# lri = []\n",
        "# lossi = []\n",
        "\n",
        "for i in range(100000):\n",
        "\n",
        "  # minibatch\n",
        "\n",
        "  ix = torch.randint(0, X.shape[0], (32,))\n",
        "\n",
        "  # forward pass\n",
        "  emb = C[X[ix]]\n",
        "  h = torch.tanh(emb.view(-1, 6) @ W1 + b1)\n",
        "  logits = h @ W2 + b2\n",
        "\n",
        "  loss = F.cross_entropy(logits, Y[ix])\n",
        "  if i % 10000 == 0:\n",
        "    print(loss.item())\n",
        "\n",
        "  # backward pass\n",
        "  for p in parameters:\n",
        "    p.grad = None\n",
        "  loss.backward()\n",
        "\n",
        "  # update\n",
        "\n",
        "  #lr = lrs[i]\n",
        "  lr = 0.1    # after experimenting, it's better for initial\n",
        "  for p in parameters:\n",
        "    # p.data += -0.01 * p.grad\n",
        "    # p.data += -lr * p.grad\n",
        "    p.data += -lr * p.grad\n",
        "\n",
        "  # tracking\n",
        "\n",
        "  # lri.append(lre[i])\n",
        "  # lossi.append(loss.item())"
      ],
      "metadata": {
        "colab": {
          "base_uri": "https://localhost:8080/"
        },
        "id": "bAW7GXYsuONE",
        "outputId": "c434eabe-f1cf-46e9-bb11-1c72a3a8e123"
      },
      "execution_count": 171,
      "outputs": [
        {
          "output_type": "stream",
          "name": "stdout",
          "text": [
            "3.0151331424713135\n",
            "2.6350998878479004\n",
            "2.2080509662628174\n",
            "2.743877410888672\n",
            "2.5585765838623047\n",
            "2.4366328716278076\n",
            "2.2705650329589844\n",
            "2.546445608139038\n",
            "2.6219425201416016\n",
            "2.6143686771392822\n"
          ]
        }
      ]
    },
    {
      "cell_type": "code",
      "source": [
        "# plt.plot(lri, lossi);"
      ],
      "metadata": {
        "colab": {
          "base_uri": "https://localhost:8080/",
          "height": 430
        },
        "id": "NO4DH-3ccDxV",
        "outputId": "edadd6be-39a7-454b-8270-a1153ea52b50"
      },
      "execution_count": 167,
      "outputs": [
        {
          "output_type": "display_data",
          "data": {
            "text/plain": [
              "<Figure size 640x480 with 1 Axes>"
            ],
            "image/png": "[encoded data removed]"
          },
          "metadata": {}
        }
      ]
    },
    {
      "cell_type": "code",
      "source": [
        "# loss on total training set\n",
        "emb = C[X]\n",
        "h = torch.tanh(emb.view(-1, 6) @ W1 + b1)\n",
        "logits = h @ W2 + b2\n",
        "loss = F.cross_entropy(logits, Y)\n",
        "loss"
      ],
      "metadata": {
        "colab": {
          "base_uri": "https://localhost:8080/"
        },
        "id": "knsqdVoyZmJg",
        "outputId": "a5f90a3c-87b7-46b6-b0e2-97ead4cf2edb"
      },
      "execution_count": 172,
      "outputs": [
        {
          "output_type": "execute_result",
          "data": {
            "text/plain": [
              "tensor(2.3214, grad_fn=<NllLossBackward0>)"
            ]
          },
          "metadata": {},
          "execution_count": 172
        }
      ]
    },
    {
      "cell_type": "code",
      "source": [
        "emb.shape"
      ],
      "metadata": {
        "colab": {
          "base_uri": "https://localhost:8080/"
        },
        "id": "px335Kkzutg-",
        "outputId": "a8361232-64c1-4890-c076-668035c35881"
      },
      "execution_count": 93,
      "outputs": [
        {
          "output_type": "execute_result",
          "data": {
            "text/plain": [
              "torch.Size([228146, 3, 2])"
            ]
          },
          "metadata": {},
          "execution_count": 93
        }
      ]
    },
    {
      "cell_type": "code",
      "source": [
        "torch.randint(0, X.shape[0], (32, ))"
      ],
      "metadata": {
        "colab": {
          "base_uri": "https://localhost:8080/"
        },
        "id": "bwY86u_-5G75",
        "outputId": "f922620a-6330-47b3-98db-b360a65fe777"
      },
      "execution_count": 100,
      "outputs": [
        {
          "output_type": "execute_result",
          "data": {
            "text/plain": [
              "tensor([ 25971,  21242, 122050, 215270, 210414, 134066, 119077,  36927,  83498,\n",
              "         18068, 137161,  87807, 210480, 126262,  38201, 166090, 196545, 180358,\n",
              "          9335, 219481,  89305, 197952,  77394, 151326,  47135, 205267,  73016,\n",
              "         41793, 121416, 180096, 161644, 106184])"
            ]
          },
          "metadata": {},
          "execution_count": 100
        }
      ]
    },
    {
      "cell_type": "markdown",
      "source": [
        "# Training on train, val, test splits"
      ],
      "metadata": {
        "id": "QNa-XhdfiQgR"
      }
    },
    {
      "cell_type": "code",
      "source": [
        "def build_dataset(words):\n",
        "  block_size = 3\n",
        "  X, Y = [], []\n",
        "  for word in words:\n",
        "\n",
        "    context = [0] * block_size\n",
        "    for ch in word + '.':\n",
        "      ix = stoi[ch]\n",
        "      X.append(context)\n",
        "      Y.append(ix)\n",
        "\n",
        "      context = context[1:] + [ix]\n",
        "\n",
        "  X = torch.tensor(X)\n",
        "  Y = torch.tensor(Y)\n",
        "\n",
        "  print(X.shape, Y.shape)\n",
        "  return X, Y"
      ],
      "metadata": {
        "id": "Tcx4PN2EZf1b"
      },
      "execution_count": 173,
      "outputs": []
    },
    {
      "cell_type": "code",
      "source": [
        "import random\n",
        "\n",
        "random.seed(42)\n",
        "random.shuffle(words)\n",
        "\n",
        "n1 = int(0.8*(len(words)))\n",
        "n2 = int(0.9*(len(words)))\n",
        "\n",
        "Xtr, Ytr = build_dataset(words[:n1])\n",
        "Xval, Yval = build_dataset(words[n1:n2])\n",
        "Xtest, Ytest = build_dataset(words[n2:])"
      ],
      "metadata": {
        "colab": {
          "base_uri": "https://localhost:8080/"
        },
        "id": "6yVzGUgOilfH",
        "outputId": "3578303e-eacc-47cb-b82f-7e68c383be83"
      },
      "execution_count": 174,
      "outputs": [
        {
          "output_type": "stream",
          "name": "stdout",
          "text": [
            "torch.Size([182625, 3]) torch.Size([182625])\n",
            "torch.Size([22655, 3]) torch.Size([22655])\n",
            "torch.Size([22866, 3]) torch.Size([22866])\n"
          ]
        }
      ]
    },
    {
      "cell_type": "code",
      "source": [
        "C = torch.randn((27, 2))\n",
        "emb = C[X]\n",
        "emb.shape"
      ],
      "metadata": {
        "colab": {
          "base_uri": "https://localhost:8080/"
        },
        "id": "UAz04ULOjJ3u",
        "outputId": "39098805-f379-46d0-fc7f-3d46ed4fcc8b"
      },
      "execution_count": 179,
      "outputs": [
        {
          "output_type": "execute_result",
          "data": {
            "text/plain": [
              "torch.Size([228146, 3, 2])"
            ]
          },
          "metadata": {},
          "execution_count": 179
        }
      ]
    },
    {
      "cell_type": "code",
      "source": [
        "g = torch.Generator().manual_seed(214412)\n",
        "C = torch.randn((27,2), generator=g)\n",
        "W1 = torch.randn((6, 100), generator=g)\n",
        "b1 = torch.randn(100, generator=g)\n",
        "W2 = torch.randn((100, 27), generator=g)\n",
        "b2 = torch.randn(27, generator=g)\n",
        "parameters = [C, W1, b1, W2, b2]\n",
        "\n",
        "for p in parameters:\n",
        "  p.requires_grad = True"
      ],
      "metadata": {
        "id": "a-vx0Z9OjOsC"
      },
      "execution_count": 236,
      "outputs": []
    },
    {
      "cell_type": "code",
      "source": [
        "for i in range(10000):\n",
        "\n",
        "  # minibatch\n",
        "\n",
        "  ix = torch.randint(0, Xtr.shape[0], (32,))  # training set\n",
        "\n",
        "  # forward pass\n",
        "  emb = C[Xtr[ix]]\n",
        "  h = torch.tanh(emb.view(-1, 6) @ W1 + b1)\n",
        "  logits = h @ W2 + b2\n",
        "\n",
        "  loss = F.cross_entropy(logits, Ytr[ix])   # here also\n",
        "  if i % 1000 == 0:\n",
        "    print(loss.item())\n",
        "\n",
        "  # backward pass\n",
        "  for p in parameters:\n",
        "    p.grad = None\n",
        "  loss.backward()\n",
        "\n",
        "  # update\n",
        "\n",
        "  lr = 0.1\n",
        "  for p in parameters:\n",
        "    p.data += -lr * p.grad"
      ],
      "metadata": {
        "colab": {
          "base_uri": "https://localhost:8080/"
        },
        "id": "SUwxBF2JjtzD",
        "outputId": "e33b5497-bdf3-4cff-b849-5aa5ce2805e5"
      },
      "execution_count": 237,
      "outputs": [
        {
          "output_type": "stream",
          "name": "stdout",
          "text": [
            "13.529951095581055\n",
            "2.796112298965454\n",
            "2.7516229152679443\n",
            "2.562988519668579\n",
            "2.8550331592559814\n",
            "2.1246163845062256\n",
            "2.5169434547424316\n",
            "2.3692548274993896\n",
            "2.5465638637542725\n",
            "2.5049972534179688\n"
          ]
        }
      ]
    },
    {
      "cell_type": "code",
      "source": [
        "# loss on validation set\n",
        "emb = C[Xval]\n",
        "h = torch.tanh(emb.view(-1, 6) @ W1 + b1)\n",
        "logits = h @ W2 + b2\n",
        "loss = F.cross_entropy(logits, Yval)\n",
        "loss"
      ],
      "metadata": {
        "colab": {
          "base_uri": "https://localhost:8080/"
        },
        "id": "uUBJaKazkGKL",
        "outputId": "51969a9d-f0e5-4227-b2a6-5adfe4bff96d"
      },
      "execution_count": 238,
      "outputs": [
        {
          "output_type": "execute_result",
          "data": {
            "text/plain": [
              "tensor(2.5417, grad_fn=<NllLossBackward0>)"
            ]
          },
          "metadata": {},
          "execution_count": 238
        }
      ]
    },
    {
      "cell_type": "code",
      "source": [
        "# loss on test set\n",
        "emb = C[Xtest]\n",
        "h = torch.tanh(emb.view(-1, 6) @ W1 + b1)\n",
        "logits = h @ W2 + b2\n",
        "loss = F.cross_entropy(logits, Ytest)\n",
        "loss"
      ],
      "metadata": {
        "colab": {
          "base_uri": "https://localhost:8080/"
        },
        "id": "69mJWd2FmXT9",
        "outputId": "a79afcf6-7986-4f9c-ca30-caceefc91a05"
      },
      "execution_count": 239,
      "outputs": [
        {
          "output_type": "execute_result",
          "data": {
            "text/plain": [
              "tensor(2.5446, grad_fn=<NllLossBackward0>)"
            ]
          },
          "metadata": {},
          "execution_count": 239
        }
      ]
    },
    {
      "cell_type": "markdown",
      "source": [
        "## Training on larger hidden layer"
      ],
      "metadata": {
        "id": "wz3Ur9rUomAk"
      }
    },
    {
      "cell_type": "code",
      "source": [
        "import random\n",
        "\n",
        "random.seed(42)\n",
        "random.shuffle(words)\n",
        "\n",
        "n1 = int(0.8*(len(words)))\n",
        "n2 = int(0.9*(len(words)))\n",
        "\n",
        "Xtr, Ytr = build_dataset(words[:n1])\n",
        "Xval, Yval = build_dataset(words[n1:n2])\n",
        "Xtest, Ytest = build_dataset(words[n2:])"
      ],
      "metadata": {
        "colab": {
          "base_uri": "https://localhost:8080/"
        },
        "id": "OeOnhmlPoNVf",
        "outputId": "d76034e5-eb0c-4a80-b424-d11df9b76d41"
      },
      "execution_count": 224,
      "outputs": [
        {
          "output_type": "stream",
          "name": "stdout",
          "text": [
            "torch.Size([182580, 3]) torch.Size([182580])\n",
            "torch.Size([22767, 3]) torch.Size([22767])\n",
            "torch.Size([22799, 3]) torch.Size([22799])\n"
          ]
        }
      ]
    },
    {
      "cell_type": "code",
      "source": [
        "C = torch.randn((27, 2))\n",
        "emb = C[X]\n",
        "emb.shape"
      ],
      "metadata": {
        "colab": {
          "base_uri": "https://localhost:8080/"
        },
        "id": "LKloyhjQor-Z",
        "outputId": "e205ba11-a1db-4f7c-ac32-a393432da6e1"
      },
      "execution_count": 225,
      "outputs": [
        {
          "output_type": "execute_result",
          "data": {
            "text/plain": [
              "torch.Size([228146, 3, 2])"
            ]
          },
          "metadata": {},
          "execution_count": 225
        }
      ]
    },
    {
      "cell_type": "code",
      "source": [
        "g = torch.Generator().manual_seed(214412)\n",
        "C = torch.randn((27,2), generator=g)\n",
        "W1 = torch.randn((6, 300), generator=g)\n",
        "b1 = torch.randn(300, generator=g)\n",
        "W2 = torch.randn((300, 27), generator=g)\n",
        "b2 = torch.randn(27, generator=g)\n",
        "parameters = [C, W1, b1, W2, b2]\n",
        "\n",
        "for p in parameters:\n",
        "  p.requires_grad = True\n",
        "\n",
        "sum(p.nelement() for p in parameters)"
      ],
      "metadata": {
        "colab": {
          "base_uri": "https://localhost:8080/"
        },
        "id": "PMOj4oEGou0X",
        "outputId": "ad0f4058-aac5-471f-e1f1-e7026e98ac69"
      },
      "execution_count": 240,
      "outputs": [
        {
          "output_type": "execute_result",
          "data": {
            "text/plain": [
              "10281"
            ]
          },
          "metadata": {},
          "execution_count": 240
        }
      ]
    },
    {
      "cell_type": "code",
      "source": [
        "stepi = []\n",
        "lossi = []\n",
        "\n",
        "for i in range(50000):\n",
        "\n",
        "  # minibatch\n",
        "\n",
        "  ix = torch.randint(0, Xtr.shape[0], (32,))  # training set\n",
        "\n",
        "  # forward pass\n",
        "  emb = C[Xtr[ix]]\n",
        "  h = torch.tanh(emb.view(-1, 6) @ W1 + b1)\n",
        "  logits = h @ W2 + b2\n",
        "\n",
        "  loss = F.cross_entropy(logits, Ytr[ix])   # here also\n",
        "  if i % 10000 == 0:\n",
        "    print(loss.item())\n",
        "\n",
        "  # backward pass\n",
        "  for p in parameters:\n",
        "    p.grad = None\n",
        "  loss.backward()\n",
        "\n",
        "  # update\n",
        "\n",
        "  lr = 0.025\n",
        "  for p in parameters:\n",
        "    p.data += -lr * p.grad\n",
        "\n",
        "  # tracking\n",
        "  stepi.append(i)\n",
        "  lossi.append(loss.item())"
      ],
      "metadata": {
        "colab": {
          "base_uri": "https://localhost:8080/"
        },
        "id": "f-fj0NoWo49X",
        "outputId": "1c7f668c-67ee-436b-cd26-9703b3b83de0"
      },
      "execution_count": 248,
      "outputs": [
        {
          "output_type": "stream",
          "name": "stdout",
          "text": [
            "2.577834367752075\n",
            "2.34765625\n",
            "2.3018343448638916\n",
            "2.313345432281494\n",
            "2.259721040725708\n"
          ]
        }
      ]
    },
    {
      "cell_type": "code",
      "source": [
        "plt.plot(stepi, lossi);"
      ],
      "metadata": {
        "colab": {
          "base_uri": "https://localhost:8080/",
          "height": 430
        },
        "id": "SeKbYCOypZFS",
        "outputId": "b616a317-ef2b-4230-98b1-2db9be6a390c"
      },
      "execution_count": 249,
      "outputs": [
        {
          "output_type": "display_data",
          "data": {
            "text/plain": [
              "<Figure size 640x480 with 1 Axes>"
            ],
            "image/png": "[encoded data removed]"
          },
          "metadata": {}
        }
      ]
    },
    {
      "cell_type": "code",
      "source": [
        "# loss on validation set\n",
        "emb = C[Xval]\n",
        "h = torch.tanh(emb.view(-1, 6) @ W1 + b1)\n",
        "logits = h @ W2 + b2\n",
        "loss = F.cross_entropy(logits, Yval)\n",
        "loss"
      ],
      "metadata": {
        "colab": {
          "base_uri": "https://localhost:8080/"
        },
        "id": "Th9sWMQTpdn2",
        "outputId": "29070c98-4b30-450c-9cae-af5813721147"
      },
      "execution_count": 250,
      "outputs": [
        {
          "output_type": "execute_result",
          "data": {
            "text/plain": [
              "tensor(2.3153, grad_fn=<NllLossBackward0>)"
            ]
          },
          "metadata": {},
          "execution_count": 250
        }
      ]
    },
    {
      "cell_type": "code",
      "source": [
        "plt.figure(figsize=(8,8))\n",
        "plt.scatter(C[:, 0].data, C[:, 1].data, s=200)\n",
        "for i in range(C.shape[0]):\n",
        "  plt.text(C[i,0].item(), C[i, 1].item(), itos[i], ha='center', va='center', color='white')\n",
        "plt.grid('minor')"
      ],
      "metadata": {
        "colab": {
          "base_uri": "https://localhost:8080/",
          "height": 623
        },
        "id": "I3lk793hpo05",
        "outputId": "5dcf6c5d-27ea-47e4-8e7e-430428c6c8f7"
      },
      "execution_count": 251,
      "outputs": [
        {
          "output_type": "display_data",
          "data": {
            "text/plain": [
              "<Figure size 800x800 with 1 Axes>"
            ],
            "image/png": "[encoded data removed]"
          },
          "metadata": {}
        }
      ]
    },
    {
      "cell_type": "markdown",
      "source": [
        "## Training on larger embedding size"
      ],
      "metadata": {
        "id": "E0DWEcNQtqWl"
      }
    },
    {
      "cell_type": "code",
      "source": [
        "g = torch.Generator().manual_seed(214412)\n",
        "C = torch.randn((27, 10), generator=g)    # change here\n",
        "W1 = torch.randn((30, 200), generator=g)  # change here\n",
        "b1 = torch.randn(200, generator=g)\n",
        "W2 = torch.randn((200, 27), generator=g)\n",
        "b2 = torch.randn(27, generator=g)\n",
        "parameters = [C, W1, b1, W2, b2]\n",
        "\n",
        "for p in parameters:\n",
        "  p.requires_grad = True\n",
        "\n",
        "sum(p.nelement() for p in parameters)"
      ],
      "metadata": {
        "colab": {
          "base_uri": "https://localhost:8080/"
        },
        "id": "vNAlLbpRsg4u",
        "outputId": "ae8e1520-ce69-4afa-8bdd-d6310764aaaf"
      },
      "execution_count": 260,
      "outputs": [
        {
          "output_type": "execute_result",
          "data": {
            "text/plain": [
              "11897"
            ]
          },
          "metadata": {},
          "execution_count": 260
        }
      ]
    },
    {
      "cell_type": "code",
      "source": [
        "stepi = []\n",
        "lossi = []"
      ],
      "metadata": {
        "id": "Y5d-od4zuYAE"
      },
      "execution_count": 261,
      "outputs": []
    },
    {
      "cell_type": "code",
      "source": [
        "for i in range(50000):\n",
        "\n",
        "  # minibatch\n",
        "\n",
        "  ix = torch.randint(0, Xtr.shape[0], (32,))  # training set\n",
        "\n",
        "  # forward pass\n",
        "  emb = C[Xtr[ix]]\n",
        "  h = torch.tanh(emb.view(-1, 30) @ W1 + b1)\n",
        "  logits = h @ W2 + b2\n",
        "\n",
        "  loss = F.cross_entropy(logits, Ytr[ix])   # here also\n",
        "  if i % 10000 == 0:\n",
        "    print(loss.item())\n",
        "\n",
        "  # backward pass\n",
        "  for p in parameters:\n",
        "    p.grad = None\n",
        "  loss.backward()\n",
        "\n",
        "  # update\n",
        "\n",
        "  lr = 0.0003\n",
        "  for p in parameters:\n",
        "    p.data += -lr * p.grad\n",
        "\n",
        "  # tracking\n",
        "  stepi.append(i)\n",
        "  lossi.append(loss.log10().item())"
      ],
      "metadata": {
        "colab": {
          "base_uri": "https://localhost:8080/"
        },
        "id": "mzU4z-szt-FI",
        "outputId": "eafb8787-f973-4fd1-8b57-9de2eba62bcc"
      },
      "execution_count": 294,
      "outputs": [
        {
          "output_type": "stream",
          "name": "stdout",
          "text": [
            "2.2686238288879395\n",
            "1.975475549697876\n",
            "2.4395992755889893\n",
            "2.1934807300567627\n",
            "2.4364140033721924\n"
          ]
        }
      ]
    },
    {
      "cell_type": "code",
      "source": [
        "plt.plot(stepi, lossi)"
      ],
      "metadata": {
        "colab": {
          "base_uri": "https://localhost:8080/",
          "height": 447
        },
        "id": "g6KlyvuvuGao",
        "outputId": "85bfac28-3e40-4a48-e62a-7205f76eba84"
      },
      "execution_count": 288,
      "outputs": [
        {
          "output_type": "execute_result",
          "data": {
            "text/plain": [
              "[<matplotlib.lines.Line2D at 0x78167271b070>]"
            ]
          },
          "metadata": {},
          "execution_count": 288
        },
        {
          "output_type": "display_data",
          "data": {
            "text/plain": [
              "<Figure size 640x480 with 1 Axes>"
            ],
            "image/png": "[encoded data removed]"
          },
          "metadata": {}
        }
      ]
    },
    {
      "cell_type": "code",
      "source": [
        "# loss on validation set\n",
        "emb = C[Xval]\n",
        "h = torch.tanh(emb.view(-1, 30) @ W1 + b1)\n",
        "logits = h @ W2 + b2\n",
        "loss = F.cross_entropy(logits, Yval)\n",
        "loss"
      ],
      "metadata": {
        "colab": {
          "base_uri": "https://localhost:8080/"
        },
        "id": "6T75F1iVusnf",
        "outputId": "068c12f1-a732-485b-e1dc-90d73757d349"
      },
      "execution_count": 295,
      "outputs": [
        {
          "output_type": "execute_result",
          "data": {
            "text/plain": [
              "tensor(2.2209, grad_fn=<NllLossBackward0>)"
            ]
          },
          "metadata": {},
          "execution_count": 295
        }
      ]
    },
    {
      "cell_type": "code",
      "source": [
        "# loss on train set\n",
        "emb = C[Xtr]\n",
        "h = torch.tanh(emb.view(-1, 30) @ W1 + b1)\n",
        "logits = h @ W2 + b2\n",
        "loss = F.cross_entropy(logits, Ytr)\n",
        "loss"
      ],
      "metadata": {
        "colab": {
          "base_uri": "https://localhost:8080/"
        },
        "id": "F23nFizyvKM6",
        "outputId": "bbe89bd0-1c48-4f13-a033-bfd1c9f4e77a"
      },
      "execution_count": 299,
      "outputs": [
        {
          "output_type": "execute_result",
          "data": {
            "text/plain": [
              "tensor(2.1991, grad_fn=<NllLossBackward0>)"
            ]
          },
          "metadata": {},
          "execution_count": 299
        }
      ]
    },
    {
      "cell_type": "code",
      "source": [
        "plt.figure(figsize=(8,8))\n",
        "plt.scatter(C[:, 0].data, C[:, 1].data, s=200)\n",
        "for i in range(C.shape[0]):\n",
        "  plt.text(C[i,0].item(), C[i, 1].item(), itos[i], ha='center', va='center', color='white')\n",
        "plt.grid('minor')"
      ],
      "metadata": {
        "colab": {
          "base_uri": "https://localhost:8080/",
          "height": 623
        },
        "id": "QO5ODwy1vOyw",
        "outputId": "9c3d9963-2a3a-46bb-b821-2e39eb83672c"
      },
      "execution_count": 300,
      "outputs": [
        {
          "output_type": "display_data",
          "data": {
            "text/plain": [
              "<Figure size 800x800 with 1 Axes>"
            ],
            "image/png": "[encoded data removed]"
          },
          "metadata": {}
        }
      ]
    },
    {
      "cell_type": "code",
      "source": [
        "# sample from model\n",
        "g = torch.Generator().manual_seed(214414)\n",
        "\n",
        "for _ in range(20):\n",
        "\n",
        "  out = []\n",
        "  context = [0] * block_size\n",
        "  while True:\n",
        "    emb = C[torch.tensor([context])]\n",
        "    h = torch.tanh(emb.view(1, -1) @ W1 + b1)\n",
        "    logits = h @ W2 + b2\n",
        "    probs = F.softmax(logits, dim=1)\n",
        "    ix = torch.multinomial(probs, num_samples=1, generator=g).item()\n",
        "    context = context[1:] + [ix]\n",
        "    out.append(ix)\n",
        "    if ix == 0:\n",
        "      break\n",
        "  print(''.join(itos[i] for i in out))"
      ],
      "metadata": {
        "colab": {
          "base_uri": "https://localhost:8080/"
        },
        "id": "c_97B5WYwFcD",
        "outputId": "e3f89328-cd69-47df-a673-e3566a2ccb4a"
      },
      "execution_count": 297,
      "outputs": [
        {
          "output_type": "stream",
          "name": "stdout",
          "text": [
            "juliyla.\n",
            "matelvsin.\n",
            "annete.\n",
            "ryani.\n",
            "kam.\n",
            "lani.\n",
            "yyansi.\n",
            "eho.\n",
            "ihahie.\n",
            "kyrah.\n",
            "ivener.\n",
            "dauvriery.\n",
            "nika.\n",
            "irse.\n",
            "ban.\n",
            "kaisaraut.\n",
            "asarevton.\n",
            "cevylda.\n",
            "lavilya.\n",
            "breraysan.\n"
          ]
        }
      ]
    },
    {
      "cell_type": "markdown",
      "source": [
        "## More complex model"
      ],
      "metadata": {
        "id": "S2fAjJ1zzVrl"
      }
    },
    {
      "cell_type": "code",
      "source": [
        "g = torch.Generator().manual_seed(214412)\n",
        "C = torch.randn((27, 20), generator=g)    # change here\n",
        "W1 = torch.randn((60, 300), generator=g)  # change here\n",
        "b1 = torch.randn(300, generator=g)\n",
        "W2 = torch.randn((300, 27), generator=g)\n",
        "b2 = torch.randn(27, generator=g)\n",
        "parameters = [C, W1, b1, W2, b2]\n",
        "\n",
        "for p in parameters:\n",
        "  p.requires_grad = True\n",
        "\n",
        "sum(p.nelement() for p in parameters)"
      ],
      "metadata": {
        "colab": {
          "base_uri": "https://localhost:8080/"
        },
        "id": "bdkoYC0JyS6X",
        "outputId": "7f9e140f-2f72-4c69-f626-7da8bf8193fd"
      },
      "execution_count": 334,
      "outputs": [
        {
          "output_type": "execute_result",
          "data": {
            "text/plain": [
              "26967"
            ]
          },
          "metadata": {},
          "execution_count": 334
        }
      ]
    },
    {
      "cell_type": "code",
      "source": [
        "for i in range(50000):\n",
        "\n",
        "  # minibatch\n",
        "\n",
        "  ix = torch.randint(0, Xtr.shape[0], (32,))  # training set\n",
        "\n",
        "  # forward pass\n",
        "  emb = C[Xtr[ix]]\n",
        "  h = torch.tanh(emb.view(-1, 60) @ W1 + b1)\n",
        "  logits = h @ W2 + b2\n",
        "\n",
        "  loss = F.cross_entropy(logits, Ytr[ix])   # here also\n",
        "  if i % 10000 == 0:\n",
        "    print(loss.item())\n",
        "\n",
        "  # backward pass\n",
        "  for p in parameters:\n",
        "    p.grad = None\n",
        "  loss.backward()\n",
        "\n",
        "  # update\n",
        "\n",
        "  lr = 0.005\n",
        "  for p in parameters:\n",
        "    p.data += -lr * p.grad"
      ],
      "metadata": {
        "colab": {
          "base_uri": "https://localhost:8080/"
        },
        "id": "7zLcaO6FzbKh",
        "outputId": "4ddef845-1f9b-4682-b530-0e404ac679b7"
      },
      "execution_count": 354,
      "outputs": [
        {
          "output_type": "stream",
          "name": "stdout",
          "text": [
            "1.9748740196228027\n",
            "1.916609287261963\n",
            "2.372389554977417\n",
            "1.6285957098007202\n",
            "1.948996663093567\n"
          ]
        }
      ]
    },
    {
      "cell_type": "code",
      "source": [
        "# loss on train set\n",
        "emb = C[Xtr]\n",
        "h = torch.tanh(emb.view(-1, 60) @ W1 + b1)\n",
        "logits = h @ W2 + b2\n",
        "loss = F.cross_entropy(logits, Ytr)\n",
        "loss"
      ],
      "metadata": {
        "colab": {
          "base_uri": "https://localhost:8080/"
        },
        "id": "W9BT-eGezo9D",
        "outputId": "dce1d1b3-7313-44c5-f81b-b2ae29f27d3d"
      },
      "execution_count": 355,
      "outputs": [
        {
          "output_type": "execute_result",
          "data": {
            "text/plain": [
              "tensor(2.0321, grad_fn=<NllLossBackward0>)"
            ]
          },
          "metadata": {},
          "execution_count": 355
        }
      ]
    },
    {
      "cell_type": "code",
      "source": [
        "# loss on validation set\n",
        "emb = C[Xval]\n",
        "h = torch.tanh(emb.view(-1, 60) @ W1 + b1)\n",
        "logits = h @ W2 + b2\n",
        "loss = F.cross_entropy(logits, Yval)\n",
        "loss"
      ],
      "metadata": {
        "colab": {
          "base_uri": "https://localhost:8080/"
        },
        "id": "GBQVA_fszi-Q",
        "outputId": "795cb6e3-15a2-4126-ec40-69f4bc953ef4"
      },
      "execution_count": 357,
      "outputs": [
        {
          "output_type": "execute_result",
          "data": {
            "text/plain": [
              "tensor(2.1404, grad_fn=<NllLossBackward0>)"
            ]
          },
          "metadata": {},
          "execution_count": 357
        }
      ]
    },
    {
      "cell_type": "code",
      "source": [
        "# sample from model\n",
        "g = torch.Generator().manual_seed(214414)\n",
        "\n",
        "for _ in range(20):\n",
        "\n",
        "  out = []\n",
        "  context = [0] * block_size\n",
        "  while True:\n",
        "    emb = C[torch.tensor([context])]\n",
        "    h = torch.tanh(emb.view(1, -1) @ W1 + b1)\n",
        "    logits = h @ W2 + b2\n",
        "    probs = F.softmax(logits, dim=1)\n",
        "    ix = torch.multinomial(probs, num_samples=1, generator=g).item()\n",
        "    context = context[1:] + [ix]\n",
        "    out.append(ix)\n",
        "    if ix == 0:\n",
        "      break\n",
        "  print(''.join(itos[i] for i in out))"
      ],
      "metadata": {
        "colab": {
          "base_uri": "https://localhost:8080/"
        },
        "id": "Z-N5aGOY2D-h",
        "outputId": "e1eef686-013e-4260-fe75-3d067e6e0328"
      },
      "execution_count": 358,
      "outputs": [
        {
          "output_type": "stream",
          "name": "stdout",
          "text": [
            "julie.\n",
            "sam.\n",
            "talazii.\n",
            "anna.\n",
            "gory.\n",
            "dreyah.\n",
            "lani.\n",
            "yakaylie.\n",
            "ju.\n",
            "grace.\n",
            "kyra.\n",
            "ziven.\n",
            "raynuckier.\n",
            "bay.\n",
            "alias.\n",
            "abdamian.\n",
            "arnavi.\n",
            "sarevion.\n",
            "cestrygrayviana.\n",
            "rodiay.\n"
          ]
        }
      ]
    },
    {
      "cell_type": "code",
      "source": [],
      "metadata": {
        "id": "z9po7iXi2Iwq"
      },
      "execution_count": null,
      "outputs": []
    }
  ]
}